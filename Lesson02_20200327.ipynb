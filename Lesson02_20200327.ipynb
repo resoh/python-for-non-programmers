{
 "cells": [
  {
   "cell_type": "code",
   "execution_count": 1,
   "metadata": {},
   "outputs": [],
   "source": [
    "# Define two variables, x and y, with integer values. \n",
    "# Multiply them together, and assign the result to a \n",
    "# third variable, z. Use print to display the value of z.\n",
    "# Hint: In programming, we typically use the * for multiplication.\n",
    "\n",
    "x = 100\n",
    "y = 200\n",
    "\n",
    "z = x * y   #  z = 20000\n"
   ]
  },
  {
   "cell_type": "code",
   "execution_count": 2,
   "metadata": {},
   "outputs": [
    {
     "data": {
      "text/plain": [
       "20000"
      ]
     },
     "execution_count": 2,
     "metadata": {},
     "output_type": "execute_result"
    }
   ],
   "source": [
    "z"
   ]
  },
  {
   "cell_type": "code",
   "execution_count": 3,
   "metadata": {},
   "outputs": [
    {
     "name": "stdout",
     "output_type": "stream",
     "text": [
      "Enter your name: Reuven\n"
     ]
    }
   ],
   "source": [
    "# Ask the user, via input, to enter their name.\n",
    "# Print a nice greeting to the person.\n",
    "\n",
    "# name = 'Reuven'\n",
    "name = input(\"Enter your name: \")"
   ]
  },
  {
   "cell_type": "code",
   "execution_count": 4,
   "metadata": {},
   "outputs": [
    {
     "ename": "TypeError",
     "evalue": "can only concatenate str (not \"int\") to str",
     "output_type": "error",
     "traceback": [
      "\u001b[0;31m---------------------------------------------------------------------------\u001b[0m",
      "\u001b[0;31mTypeError\u001b[0m                                 Traceback (most recent call last)",
      "\u001b[0;32m<ipython-input-4-a9810fe61a60>\u001b[0m in \u001b[0;36m<module>\u001b[0;34m\u001b[0m\n\u001b[1;32m      7\u001b[0m \u001b[0my\u001b[0m \u001b[0;34m=\u001b[0m \u001b[0;36m3\u001b[0m\u001b[0;34m\u001b[0m\u001b[0;34m\u001b[0m\u001b[0m\n\u001b[1;32m      8\u001b[0m \u001b[0;34m\u001b[0m\u001b[0m\n\u001b[0;32m----> 9\u001b[0;31m \u001b[0mx\u001b[0m \u001b[0;34m+\u001b[0m \u001b[0my\u001b[0m\u001b[0;34m\u001b[0m\u001b[0;34m\u001b[0m\u001b[0m\n\u001b[0m",
      "\u001b[0;31mTypeError\u001b[0m: can only concatenate str (not \"int\") to str"
     ]
    }
   ],
   "source": [
    "# Define two variables: x should contain a string,\n",
    "# and y should contain an integer. What happens\n",
    "# if you try to add them together? \n",
    "# What happens if you try to multiply them?\n",
    "\n",
    "x = 'abcd'\n",
    "y = 3\n",
    "\n",
    "x + y"
   ]
  },
  {
   "cell_type": "code",
   "execution_count": 5,
   "metadata": {},
   "outputs": [
    {
     "ename": "TypeError",
     "evalue": "can only concatenate str (not \"int\") to str",
     "output_type": "error",
     "traceback": [
      "\u001b[0;31m---------------------------------------------------------------------------\u001b[0m",
      "\u001b[0;31mTypeError\u001b[0m                                 Traceback (most recent call last)",
      "\u001b[0;32m<ipython-input-5-f6b9c09c029c>\u001b[0m in \u001b[0;36m<module>\u001b[0;34m\u001b[0m\n\u001b[1;32m      2\u001b[0m \u001b[0my\u001b[0m \u001b[0;34m=\u001b[0m \u001b[0;36m10\u001b[0m\u001b[0;34m\u001b[0m\u001b[0;34m\u001b[0m\u001b[0m\n\u001b[1;32m      3\u001b[0m \u001b[0;34m\u001b[0m\u001b[0m\n\u001b[0;32m----> 4\u001b[0;31m \u001b[0mx\u001b[0m \u001b[0;34m+\u001b[0m \u001b[0my\u001b[0m\u001b[0;34m\u001b[0m\u001b[0;34m\u001b[0m\u001b[0m\n\u001b[0m",
      "\u001b[0;31mTypeError\u001b[0m: can only concatenate str (not \"int\") to str"
     ]
    }
   ],
   "source": [
    "x = '5'\n",
    "y = 10\n",
    "\n",
    "x + y"
   ]
  },
  {
   "cell_type": "code",
   "execution_count": 6,
   "metadata": {},
   "outputs": [
    {
     "data": {
      "text/plain": [
       "'abcdabcdabcd'"
      ]
     },
     "execution_count": 6,
     "metadata": {},
     "output_type": "execute_result"
    }
   ],
   "source": [
    "x = 'abcd'\n",
    "y = 3\n",
    "\n",
    "x * y # this returns a new string, with x concatenated y times"
   ]
  },
  {
   "cell_type": "code",
   "execution_count": 7,
   "metadata": {},
   "outputs": [
    {
     "data": {
      "text/plain": [
       "'abcd'"
      ]
     },
     "execution_count": 7,
     "metadata": {},
     "output_type": "execute_result"
    }
   ],
   "source": [
    "x"
   ]
  },
  {
   "cell_type": "code",
   "execution_count": 8,
   "metadata": {},
   "outputs": [
    {
     "data": {
      "text/plain": [
       "3"
      ]
     },
     "execution_count": 8,
     "metadata": {},
     "output_type": "execute_result"
    }
   ],
   "source": [
    "y"
   ]
  },
  {
   "cell_type": "code",
   "execution_count": 9,
   "metadata": {},
   "outputs": [
    {
     "data": {
      "text/plain": [
       "'abcdabcdabcd'"
      ]
     },
     "execution_count": 9,
     "metadata": {},
     "output_type": "execute_result"
    }
   ],
   "source": [
    "z = x * y\n",
    "z"
   ]
  },
  {
   "cell_type": "code",
   "execution_count": 10,
   "metadata": {},
   "outputs": [
    {
     "name": "stdout",
     "output_type": "stream",
     "text": [
      "------------------------------------------------------------\n"
     ]
    }
   ],
   "source": [
    "print('-' * 60)"
   ]
  },
  {
   "cell_type": "code",
   "execution_count": 11,
   "metadata": {},
   "outputs": [
    {
     "data": {
      "text/plain": [
       "'1010'"
      ]
     },
     "execution_count": 11,
     "metadata": {},
     "output_type": "execute_result"
    }
   ],
   "source": [
    "x = '10'  # this is a string, containing digits\n",
    "y = 5\n",
    "\n",
    "x + x  # adding two strings together, so we get a new string"
   ]
  },
  {
   "cell_type": "code",
   "execution_count": 12,
   "metadata": {},
   "outputs": [
    {
     "data": {
      "text/plain": [
       "10"
      ]
     },
     "execution_count": 12,
     "metadata": {},
     "output_type": "execute_result"
    }
   ],
   "source": [
    "y + y   # adding two integers together, gives us a new int"
   ]
  },
  {
   "cell_type": "code",
   "execution_count": 13,
   "metadata": {},
   "outputs": [
    {
     "ename": "TypeError",
     "evalue": "can only concatenate str (not \"int\") to str",
     "output_type": "error",
     "traceback": [
      "\u001b[0;31m---------------------------------------------------------------------------\u001b[0m",
      "\u001b[0;31mTypeError\u001b[0m                                 Traceback (most recent call last)",
      "\u001b[0;32m<ipython-input-13-efab56d5e8c1>\u001b[0m in \u001b[0;36m<module>\u001b[0;34m\u001b[0m\n\u001b[0;32m----> 1\u001b[0;31m \u001b[0mx\u001b[0m \u001b[0;34m+\u001b[0m \u001b[0my\u001b[0m  \u001b[0;31m#  what should Python do here?\u001b[0m\u001b[0;34m\u001b[0m\u001b[0;34m\u001b[0m\u001b[0m\n\u001b[0m\u001b[1;32m      2\u001b[0m \u001b[0;34m\u001b[0m\u001b[0m\n\u001b[1;32m      3\u001b[0m \u001b[0;31m# (1) treat them both like numbers, and give us 15 (integer)\u001b[0m\u001b[0;34m\u001b[0m\u001b[0;34m\u001b[0m\u001b[0;34m\u001b[0m\u001b[0m\n\u001b[1;32m      4\u001b[0m \u001b[0;31m# (2) treat them both like strings, and give us '105' (string)\u001b[0m\u001b[0;34m\u001b[0m\u001b[0;34m\u001b[0m\u001b[0;34m\u001b[0m\u001b[0m\n\u001b[1;32m      5\u001b[0m \u001b[0;31m# (3) throw up your hands, complain, and say it was ambiguous\u001b[0m\u001b[0;34m\u001b[0m\u001b[0;34m\u001b[0m\u001b[0;34m\u001b[0m\u001b[0m\n",
      "\u001b[0;31mTypeError\u001b[0m: can only concatenate str (not \"int\") to str"
     ]
    }
   ],
   "source": [
    "x + y  #  what should Python do here?\n",
    "\n",
    "# (1) treat them both like numbers, and give us 15 (integer)\n",
    "# (2) treat them both like strings, and give us '105' (string)\n",
    "# (3) throw up your hands, complain, and say it was ambiguous"
   ]
  },
  {
   "cell_type": "code",
   "execution_count": 14,
   "metadata": {},
   "outputs": [
    {
     "data": {
      "text/plain": [
       "'1010101010'"
      ]
     },
     "execution_count": 14,
     "metadata": {},
     "output_type": "execute_result"
    }
   ],
   "source": [
    "x * y"
   ]
  },
  {
   "cell_type": "code",
   "execution_count": 15,
   "metadata": {},
   "outputs": [
    {
     "data": {
      "text/plain": [
       "'1010101010'"
      ]
     },
     "execution_count": 15,
     "metadata": {},
     "output_type": "execute_result"
    }
   ],
   "source": [
    "y * x"
   ]
  },
  {
   "cell_type": "code",
   "execution_count": 16,
   "metadata": {},
   "outputs": [],
   "source": [
    "# forum.lerner.co.il"
   ]
  },
  {
   "cell_type": "code",
   "execution_count": 18,
   "metadata": {},
   "outputs": [],
   "source": [
    "x = 100  # one = sign means: assign the value on the right to the variable on the left"
   ]
  },
  {
   "cell_type": "code",
   "execution_count": 19,
   "metadata": {},
   "outputs": [
    {
     "data": {
      "text/plain": [
       "True"
      ]
     },
     "execution_count": 19,
     "metadata": {},
     "output_type": "execute_result"
    }
   ],
   "source": [
    "# is x equal to 100?\n",
    "# we're going to use ==\n",
    "x == 100"
   ]
  },
  {
   "cell_type": "code",
   "execution_count": 20,
   "metadata": {},
   "outputs": [
    {
     "data": {
      "text/plain": [
       "False"
      ]
     },
     "execution_count": 20,
     "metadata": {},
     "output_type": "execute_result"
    }
   ],
   "source": [
    "x == 200"
   ]
  },
  {
   "cell_type": "code",
   "execution_count": 21,
   "metadata": {},
   "outputs": [
    {
     "data": {
      "text/plain": [
       "True"
      ]
     },
     "execution_count": 21,
     "metadata": {},
     "output_type": "execute_result"
    }
   ],
   "source": [
    "name = 'Reuven'  # assigning\n",
    "\n",
    "name == 'Reuven'  # question: gives True or False back"
   ]
  },
  {
   "cell_type": "code",
   "execution_count": 22,
   "metadata": {},
   "outputs": [
    {
     "data": {
      "text/plain": [
       "False"
      ]
     },
     "execution_count": 22,
     "metadata": {},
     "output_type": "execute_result"
    }
   ],
   "source": [
    "name == 'reuven'"
   ]
  },
  {
   "cell_type": "code",
   "execution_count": 23,
   "metadata": {},
   "outputs": [
    {
     "data": {
      "text/plain": [
       "False"
      ]
     },
     "execution_count": 23,
     "metadata": {},
     "output_type": "execute_result"
    }
   ],
   "source": [
    "name == 'Reuven '"
   ]
  },
  {
   "cell_type": "code",
   "execution_count": 24,
   "metadata": {},
   "outputs": [],
   "source": [
    "x = 100\n"
   ]
  },
  {
   "cell_type": "code",
   "execution_count": 25,
   "metadata": {},
   "outputs": [
    {
     "data": {
      "text/plain": [
       "True"
      ]
     },
     "execution_count": 25,
     "metadata": {},
     "output_type": "execute_result"
    }
   ],
   "source": [
    "x < 200"
   ]
  },
  {
   "cell_type": "code",
   "execution_count": 26,
   "metadata": {},
   "outputs": [
    {
     "data": {
      "text/plain": [
       "True"
      ]
     },
     "execution_count": 26,
     "metadata": {},
     "output_type": "execute_result"
    }
   ],
   "source": [
    "x > 50"
   ]
  },
  {
   "cell_type": "code",
   "execution_count": 27,
   "metadata": {},
   "outputs": [
    {
     "data": {
      "text/plain": [
       "True"
      ]
     },
     "execution_count": 27,
     "metadata": {},
     "output_type": "execute_result"
    }
   ],
   "source": [
    "x <=400"
   ]
  },
  {
   "cell_type": "code",
   "execution_count": 28,
   "metadata": {},
   "outputs": [
    {
     "data": {
      "text/plain": [
       "True"
      ]
     },
     "execution_count": 28,
     "metadata": {},
     "output_type": "execute_result"
    }
   ],
   "source": [
    "x >= 30"
   ]
  },
  {
   "cell_type": "code",
   "execution_count": 29,
   "metadata": {},
   "outputs": [
    {
     "data": {
      "text/plain": [
       "True"
      ]
     },
     "execution_count": 29,
     "metadata": {},
     "output_type": "execute_result"
    }
   ],
   "source": [
    "# the not-equals operator is !=, because they didn't have ≠\n",
    "name != 'hello'"
   ]
  },
  {
   "cell_type": "code",
   "execution_count": 30,
   "metadata": {},
   "outputs": [
    {
     "name": "stdout",
     "output_type": "stream",
     "text": [
      "Enter your name: Reuven\n",
      "Hello, master!\n",
      "It has been far too long!\n",
      "This will always print, regardless of the name\n"
     ]
    }
   ],
   "source": [
    "name = input(\"Enter your name: \")\n",
    "\n",
    "if name == 'Reuven':   # if the comparison returns True\n",
    "    print(\"Hello, master!\")\n",
    "    print(\"It has been far too long!\")\n",
    "else:                  # if the comparison returns False\n",
    "    print(\"Hello, \" + name)  \n",
    "\n",
    "print(\"This will always print, regardless of the name\")"
   ]
  },
  {
   "cell_type": "code",
   "execution_count": 31,
   "metadata": {},
   "outputs": [
    {
     "data": {
      "text/plain": [
       "True"
      ]
     },
     "execution_count": 31,
     "metadata": {},
     "output_type": "execute_result"
    }
   ],
   "source": [
    "name == 'Reuven'   # are the values the same?"
   ]
  },
  {
   "cell_type": "code",
   "execution_count": 32,
   "metadata": {},
   "outputs": [
    {
     "data": {
      "text/plain": [
       "False"
      ]
     },
     "execution_count": 32,
     "metadata": {},
     "output_type": "execute_result"
    }
   ],
   "source": [
    "name is 'Reuven' # are the objects the same?"
   ]
  },
  {
   "cell_type": "code",
   "execution_count": 33,
   "metadata": {},
   "outputs": [],
   "source": [
    "x = 1000\n",
    "y = x"
   ]
  },
  {
   "cell_type": "code",
   "execution_count": 36,
   "metadata": {},
   "outputs": [
    {
     "name": "stdout",
     "output_type": "stream",
     "text": [
      "Enter your country: Fredonia\n",
      "I'm not from there.\n"
     ]
    }
   ],
   "source": [
    "# Ask the user what country they are from\n",
    "# If they enter your country, then say, \"Me too!\"\n",
    "# Otherwise, say, I'm not from there\n",
    "\n",
    "country = input(\"Enter your country: \")\n",
    "\n",
    "if country == 'Israel':\n",
    "    print(\"Me, too!\")\n",
    "else:\n",
    "    print(\"I'm not from there.\")"
   ]
  },
  {
   "cell_type": "code",
   "execution_count": 34,
   "metadata": {},
   "outputs": [],
   "source": [
    "# blog post about using \"is\" vs \"==\"\n",
    "# https://lerner.co.il/2015/06/16/why-you-should-almost-never-use-is-in-python/"
   ]
  },
  {
   "cell_type": "code",
   "execution_count": null,
   "metadata": {},
   "outputs": [],
   "source": [
    "# option 1, the person enters \"Reuven\"\n",
    "# option 2, the person enters \"whatever\" -- that's not a name!\n",
    "# all others, give some generic response\n",
    "\n",
    "name = input(\"Enter your name: \")\n",
    "\n",
    "if name == 'Reuven':\n",
    "    print(\"Hello, my master!\")\n",
    "elif name == 'whatever':    # The name isn't \"Reuven\"... check this also\n",
    "    print(\"Hey, that's not a name!\")\n",
    "else:\n",
    "    print(f\"Hello, {name}\")"
   ]
  },
  {
   "cell_type": "code",
   "execution_count": null,
   "metadata": {},
   "outputs": [],
   "source": [
    "# option 1, the person enters \"Reuven\"\n",
    "# option 2, the person enters \"whatever\" -- that's not a name!\n",
    "# all others, give some generic response\n",
    "\n",
    "name = input(\"Enter your name: \")\n",
    "\n",
    "if name == 'Reuven':\n",
    "    print(\"Hello, my master!\")\n",
    "else:\n",
    "    if name == 'whatever':    \n",
    "        print(\"Hey, that's not a name!\")\n",
    "    else:\n",
    "        print(f\"Hello, {name}\")"
   ]
  },
  {
   "cell_type": "code",
   "execution_count": 39,
   "metadata": {},
   "outputs": [
    {
     "name": "stdout",
     "output_type": "stream",
     "text": [
      "Enter your country: Israel \n",
      "I'm not from there.\n"
     ]
    }
   ],
   "source": [
    "# Ask the user what country they are from\n",
    "# If they enter your country, then say, \"Me too!\"\n",
    "# If they enter a country you have visited, say you have gone there\n",
    "# (You can have more than one elif clause, if you want.)\n",
    "# Otherwise, say, I'm not from there\n",
    "\n",
    "country = input(\"Enter your country: \")\n",
    "\n",
    "if country == 'Israel':\n",
    "    print(\"Me, too!\")\n",
    "elif country == 'China':\n",
    "    print(\"I'm not from there, but I've visited many times!\")\n",
    "elif country == 'USA':\n",
    "    print(\"I'm originally from there, too!\")\n",
    "else:\n",
    "    print(\"I'm not from there.\")"
   ]
  },
  {
   "cell_type": "code",
   "execution_count": 40,
   "metadata": {},
   "outputs": [
    {
     "name": "stdout",
     "output_type": "stream",
     "text": [
      "Both are what you want!\n"
     ]
    }
   ],
   "source": [
    "x = 10\n",
    "y = 20\n",
    "\n",
    "# Is x equal to 10, and y equal to 20?\n",
    "# I can join two comparisons together with \"and\"\n",
    "if x == 10 and y == 20:\n",
    "    print(\"Both are what you want!\")"
   ]
  },
  {
   "cell_type": "code",
   "execution_count": 41,
   "metadata": {},
   "outputs": [
    {
     "data": {
      "text/plain": [
       "True"
      ]
     },
     "execution_count": 41,
     "metadata": {},
     "output_type": "execute_result"
    }
   ],
   "source": [
    "True and True"
   ]
  },
  {
   "cell_type": "code",
   "execution_count": 42,
   "metadata": {},
   "outputs": [
    {
     "data": {
      "text/plain": [
       "False"
      ]
     },
     "execution_count": 42,
     "metadata": {},
     "output_type": "execute_result"
    }
   ],
   "source": [
    "False and True"
   ]
  },
  {
   "cell_type": "code",
   "execution_count": 43,
   "metadata": {},
   "outputs": [
    {
     "name": "stdout",
     "output_type": "stream",
     "text": [
      "At least one is what you want\n"
     ]
    }
   ],
   "source": [
    "# Is x equal to 10 *or* is y equal to 20?\n",
    "# we can do that with \"or\"\n",
    "if x == 15 or y == 20:\n",
    "    print(\"At least one is what you want\")"
   ]
  },
  {
   "cell_type": "code",
   "execution_count": 44,
   "metadata": {},
   "outputs": [
    {
     "data": {
      "text/plain": [
       "True"
      ]
     },
     "execution_count": 44,
     "metadata": {},
     "output_type": "execute_result"
    }
   ],
   "source": [
    "# \"or\" returns True if one or more of its conditions is True\n",
    "False or True"
   ]
  },
  {
   "cell_type": "code",
   "execution_count": 45,
   "metadata": {},
   "outputs": [
    {
     "name": "stdout",
     "output_type": "stream",
     "text": [
      "It is either 10, 20, or 30\n"
     ]
    }
   ],
   "source": [
    "x = 10\n",
    "\n",
    "if x == 15:\n",
    "    print(\"Yes, x is 15\")\n",
    "elif (x == 10 or \n",
    "      x == 20 or \n",
    "      x == 30):\n",
    "    print(\"It is either 10, 20, or 30\")\n",
    "else:\n",
    "    print(\"x is something else entirely\")"
   ]
  },
  {
   "cell_type": "code",
   "execution_count": null,
   "metadata": {},
   "outputs": [],
   "source": []
  },
  {
   "cell_type": "code",
   "execution_count": 47,
   "metadata": {},
   "outputs": [
    {
     "name": "stdout",
     "output_type": "stream",
     "text": [
      "Enter your country: India\n",
      "I'm not from there, but I've visited many times!\n"
     ]
    }
   ],
   "source": [
    "# Ask the user what country they are from\n",
    "# If they enter your country, then say, \"Me too!\"\n",
    "# If they enter one of several countries you have visited, \n",
    "#   then say, \"I have visited there, too!\"\n",
    "# Otherwise, say, I'm not from there\n",
    "\n",
    "country = input(\"Enter your country: \")\n",
    "\n",
    "if country == 'Israel':\n",
    "    print(\"Me, too!\")\n",
    "elif country == 'China' or country == 'India' or country == 'UK':\n",
    "    print(\"I'm not from there, but I've visited many times!\")\n",
    "elif country == 'USA':\n",
    "    print(\"I'm originally from there, too!\")\n",
    "else:\n",
    "    print(\"I'm not from there.\")"
   ]
  },
  {
   "cell_type": "code",
   "execution_count": 51,
   "metadata": {},
   "outputs": [
    {
     "name": "stdout",
     "output_type": "stream",
     "text": [
      "Enter your country: USA\n",
      "I'm not from there, but I've visited many times!\n"
     ]
    }
   ],
   "source": [
    "country = input(\"Enter your country: \")\n",
    "\n",
    "if country == 'Israel':\n",
    "    print(\"Me, too!\")\n",
    "elif country == 'China' or 'India' or 'UK':\n",
    "    print(\"I'm not from there, but I've visited many times!\")\n",
    "elif country == 'USA':\n",
    "    print(\"I'm originally from there, too!\")\n",
    "else:\n",
    "    print(\"I'm not from there.\")"
   ]
  },
  {
   "cell_type": "code",
   "execution_count": 52,
   "metadata": {},
   "outputs": [],
   "source": [
    "# In Python, all strings are considered True\n",
    "# when we're evaluating them in if/elif/and/or \n",
    "# unless it's the empty string"
   ]
  },
  {
   "cell_type": "code",
   "execution_count": 54,
   "metadata": {},
   "outputs": [
    {
     "name": "stdout",
     "output_type": "stream",
     "text": [
      "Enter your name: \n",
      "Hey!  You didn't enter a name!\n"
     ]
    }
   ],
   "source": [
    "name = input(\"Enter your name: \")\n",
    "\n",
    "if name:  # if the user's string is not empty\n",
    "    print(f\"Hello, {name}\")\n",
    "else:\n",
    "    print(\"Hey!  You didn't enter a name!\")"
   ]
  },
  {
   "cell_type": "code",
   "execution_count": 55,
   "metadata": {},
   "outputs": [
    {
     "name": "stdout",
     "output_type": "stream",
     "text": [
      "It is True-ish\n"
     ]
    }
   ],
   "source": [
    "x = 'abcd'\n",
    "\n",
    "if x:    # the rule is: all strings are True in an if, except ''\n",
    "    print(\"It is True-ish\")\n",
    "    "
   ]
  },
  {
   "cell_type": "code",
   "execution_count": 56,
   "metadata": {},
   "outputs": [
    {
     "name": "stdout",
     "output_type": "stream",
     "text": [
      "It is False-ish\n"
     ]
    }
   ],
   "source": [
    "x = ''\n",
    "\n",
    "if x:  # x is the empty string, so it's False in an \"if\" statement\n",
    "    print(\"It is True-ish\")\n",
    "else:\n",
    "    print(\"It is False-ish\")"
   ]
  },
  {
   "cell_type": "code",
   "execution_count": null,
   "metadata": {},
   "outputs": [],
   "source": [
    "x = 'abcd'\n",
    "y = 'efgh'\n",
    "z = 'ijkl'\n",
    "\n",
    "if x == 'hello' or y == 'hello' or z == 'hello':  # False or True or True --> True\n",
    "    print(\"It is True-ish\")\n",
    "else:\n",
    "    print(\"It is False-ish\")"
   ]
  }
 ],
 "metadata": {
  "kernelspec": {
   "display_name": "Python 3",
   "language": "python",
   "name": "python3"
  },
  "language_info": {
   "codemirror_mode": {
    "name": "ipython",
    "version": 3
   },
   "file_extension": ".py",
   "mimetype": "text/x-python",
   "name": "python",
   "nbconvert_exporter": "python",
   "pygments_lexer": "ipython3",
   "version": "3.7.7"
  }
 },
 "nbformat": 4,
 "nbformat_minor": 2
}
